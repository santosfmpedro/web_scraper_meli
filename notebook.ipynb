{
 "cells": [
  {
   "cell_type": "code",
   "execution_count": 1,
   "metadata": {},
   "outputs": [],
   "source": [
    "import pandas as pd"
   ]
  },
  {
   "attachments": {},
   "cell_type": "markdown",
   "metadata": {},
   "source": [
    "Running the web scraper script:"
   ]
  },
  {
   "cell_type": "code",
   "execution_count": 2,
   "metadata": {},
   "outputs": [
    {
     "name": "stdout",
     "output_type": "stream",
     "text": [
      "End.\n"
     ]
    }
   ],
   "source": [
    "!python src/main.py"
   ]
  },
  {
   "attachments": {},
   "cell_type": "markdown",
   "metadata": {},
   "source": [
    "Reading the data collected:"
   ]
  },
  {
   "cell_type": "code",
   "execution_count": 3,
   "metadata": {},
   "outputs": [
    {
     "data": {
      "text/html": [
       "<div>\n",
       "<style scoped>\n",
       "    .dataframe tbody tr th:only-of-type {\n",
       "        vertical-align: middle;\n",
       "    }\n",
       "\n",
       "    .dataframe tbody tr th {\n",
       "        vertical-align: top;\n",
       "    }\n",
       "\n",
       "    .dataframe thead th {\n",
       "        text-align: right;\n",
       "    }\n",
       "</style>\n",
       "<table border=\"1\" class=\"dataframe\">\n",
       "  <thead>\n",
       "    <tr style=\"text-align: right;\">\n",
       "      <th></th>\n",
       "      <th>name</th>\n",
       "      <th>price</th>\n",
       "      <th>currency</th>\n",
       "      <th>seller</th>\n",
       "      <th>seller_url</th>\n",
       "      <th>stock</th>\n",
       "      <th>product_url</th>\n",
       "    </tr>\n",
       "  </thead>\n",
       "  <tbody>\n",
       "    <tr>\n",
       "      <th>0</th>\n",
       "      <td>iPhone 11 Pro Max 64 GB dourado</td>\n",
       "      <td>3454</td>\n",
       "      <td>R$</td>\n",
       "      <td>ALI COMMERCE</td>\n",
       "      <td>https://perfil.mercadolivre.com.br/ALI+COMMERCE</td>\n",
       "      <td>2.0</td>\n",
       "      <td>https://www.mercadolivre.com.br/iphone-11-pro-...</td>\n",
       "    </tr>\n",
       "    <tr>\n",
       "      <th>1</th>\n",
       "      <td>iPhone 11 Pro Max 256 GB cinza-espacial</td>\n",
       "      <td>5159</td>\n",
       "      <td>R$</td>\n",
       "      <td>ALI COMMERCE</td>\n",
       "      <td>https://perfil.mercadolivre.com.br/ALI+COMMERCE</td>\n",
       "      <td>1.0</td>\n",
       "      <td>https://www.mercadolivre.com.br/iphone-11-pro-...</td>\n",
       "    </tr>\n",
       "    <tr>\n",
       "      <th>2</th>\n",
       "      <td>Apple iPhone 12 Pro Max (512 GB) - Grafite</td>\n",
       "      <td>8099</td>\n",
       "      <td>R$</td>\n",
       "      <td>ORLANDOC2012</td>\n",
       "      <td>https://perfil.mercadolivre.com.br/ORLANDOC2012</td>\n",
       "      <td>1.0</td>\n",
       "      <td>https://www.mercadolivre.com.br/apple-iphone-1...</td>\n",
       "    </tr>\n",
       "    <tr>\n",
       "      <th>3</th>\n",
       "      <td>Apple iPhone 14 Pro Max (128 GB) - Roxo-profundo</td>\n",
       "      <td>7830</td>\n",
       "      <td>R$</td>\n",
       "      <td>GODINHOEDERSON20221003112710</td>\n",
       "      <td>https://perfil.mercadolivre.com.br/GODINHOEDER...</td>\n",
       "      <td>1.0</td>\n",
       "      <td>https://www.mercadolivre.com.br/apple-iphone-1...</td>\n",
       "    </tr>\n",
       "    <tr>\n",
       "      <th>4</th>\n",
       "      <td>Apple iPhone 12 Pro Max (128 GB) - Dourado</td>\n",
       "      <td>5599</td>\n",
       "      <td>R$</td>\n",
       "      <td>MONICASECRETEUABR</td>\n",
       "      <td>https://perfil.mercadolivre.com.br/MONICASECRE...</td>\n",
       "      <td>994.0</td>\n",
       "      <td>https://www.mercadolivre.com.br/apple-iphone-1...</td>\n",
       "    </tr>\n",
       "    <tr>\n",
       "      <th>5</th>\n",
       "      <td>Apple iPhone 14 Pro (256 GB) - Dourado</td>\n",
       "      <td>8237</td>\n",
       "      <td>R$</td>\n",
       "      <td>CÉSAR DINIZ</td>\n",
       "      <td>https://perfil.mercadolivre.com.br/C%C3%89SAR+...</td>\n",
       "      <td>10.0</td>\n",
       "      <td>https://www.mercadolivre.com.br/apple-iphone-1...</td>\n",
       "    </tr>\n",
       "    <tr>\n",
       "      <th>6</th>\n",
       "      <td>Apple iPhone 14 Pro (128 GB) - Dourado</td>\n",
       "      <td>7480</td>\n",
       "      <td>R$</td>\n",
       "      <td>WLELETRÔNICOS</td>\n",
       "      <td>https://perfil.mercadolivre.com.br/WLELETR%C3%...</td>\n",
       "      <td>1.0</td>\n",
       "      <td>https://www.mercadolivre.com.br/apple-iphone-1...</td>\n",
       "    </tr>\n",
       "    <tr>\n",
       "      <th>7</th>\n",
       "      <td>iPhone 11 Pro 256 GB cinza-espacial</td>\n",
       "      <td>3650</td>\n",
       "      <td>R$</td>\n",
       "      <td>XSMART.BR</td>\n",
       "      <td>https://perfil.mercadolivre.com.br/XSMART.BR</td>\n",
       "      <td>10.0</td>\n",
       "      <td>https://www.mercadolivre.com.br/iphone-11-pro-...</td>\n",
       "    </tr>\n",
       "    <tr>\n",
       "      <th>8</th>\n",
       "      <td>iPhone 11 Pro 64 GB prateado</td>\n",
       "      <td>3239</td>\n",
       "      <td>R$</td>\n",
       "      <td>ALI COMMERCE</td>\n",
       "      <td>https://perfil.mercadolivre.com.br/ALI+COMMERCE</td>\n",
       "      <td>2.0</td>\n",
       "      <td>https://www.mercadolivre.com.br/iphone-11-pro-...</td>\n",
       "    </tr>\n",
       "    <tr>\n",
       "      <th>9</th>\n",
       "      <td>Apple iPhone 14 Pro Max (256 GB) - Roxo-profundo</td>\n",
       "      <td>7399</td>\n",
       "      <td>R$</td>\n",
       "      <td>BLACKRIVER_BIKE</td>\n",
       "      <td>https://perfil.mercadolivre.com.br/BLACKRIVER_...</td>\n",
       "      <td>1.0</td>\n",
       "      <td>https://www.mercadolivre.com.br/apple-iphone-1...</td>\n",
       "    </tr>\n",
       "  </tbody>\n",
       "</table>\n",
       "</div>"
      ],
      "text/plain": [
       "                                               name price currency  \\\n",
       "0                   iPhone 11 Pro Max 64 GB dourado  3454       R$   \n",
       "1           iPhone 11 Pro Max 256 GB cinza-espacial  5159       R$   \n",
       "2        Apple iPhone 12 Pro Max (512 GB) - Grafite  8099       R$   \n",
       "3  Apple iPhone 14 Pro Max (128 GB) - Roxo-profundo  7830       R$   \n",
       "4        Apple iPhone 12 Pro Max (128 GB) - Dourado  5599       R$   \n",
       "5            Apple iPhone 14 Pro (256 GB) - Dourado  8237       R$   \n",
       "6            Apple iPhone 14 Pro (128 GB) - Dourado  7480       R$   \n",
       "7               iPhone 11 Pro 256 GB cinza-espacial  3650       R$   \n",
       "8                      iPhone 11 Pro 64 GB prateado  3239       R$   \n",
       "9  Apple iPhone 14 Pro Max (256 GB) - Roxo-profundo  7399       R$   \n",
       "\n",
       "                         seller  \\\n",
       "0                  ALI COMMERCE   \n",
       "1                  ALI COMMERCE   \n",
       "2                  ORLANDOC2012   \n",
       "3  GODINHOEDERSON20221003112710   \n",
       "4             MONICASECRETEUABR   \n",
       "5                   CÉSAR DINIZ   \n",
       "6                 WLELETRÔNICOS   \n",
       "7                     XSMART.BR   \n",
       "8                  ALI COMMERCE   \n",
       "9               BLACKRIVER_BIKE   \n",
       "\n",
       "                                          seller_url  stock  \\\n",
       "0    https://perfil.mercadolivre.com.br/ALI+COMMERCE    2.0   \n",
       "1    https://perfil.mercadolivre.com.br/ALI+COMMERCE    1.0   \n",
       "2    https://perfil.mercadolivre.com.br/ORLANDOC2012    1.0   \n",
       "3  https://perfil.mercadolivre.com.br/GODINHOEDER...    1.0   \n",
       "4  https://perfil.mercadolivre.com.br/MONICASECRE...  994.0   \n",
       "5  https://perfil.mercadolivre.com.br/C%C3%89SAR+...   10.0   \n",
       "6  https://perfil.mercadolivre.com.br/WLELETR%C3%...    1.0   \n",
       "7       https://perfil.mercadolivre.com.br/XSMART.BR   10.0   \n",
       "8    https://perfil.mercadolivre.com.br/ALI+COMMERCE    2.0   \n",
       "9  https://perfil.mercadolivre.com.br/BLACKRIVER_...    1.0   \n",
       "\n",
       "                                         product_url  \n",
       "0  https://www.mercadolivre.com.br/iphone-11-pro-...  \n",
       "1  https://www.mercadolivre.com.br/iphone-11-pro-...  \n",
       "2  https://www.mercadolivre.com.br/apple-iphone-1...  \n",
       "3  https://www.mercadolivre.com.br/apple-iphone-1...  \n",
       "4  https://www.mercadolivre.com.br/apple-iphone-1...  \n",
       "5  https://www.mercadolivre.com.br/apple-iphone-1...  \n",
       "6  https://www.mercadolivre.com.br/apple-iphone-1...  \n",
       "7  https://www.mercadolivre.com.br/iphone-11-pro-...  \n",
       "8  https://www.mercadolivre.com.br/iphone-11-pro-...  \n",
       "9  https://www.mercadolivre.com.br/apple-iphone-1...  "
      ]
     },
     "execution_count": 3,
     "metadata": {},
     "output_type": "execute_result"
    }
   ],
   "source": [
    "filepath_products = 'data/products.parquet'\n",
    "df = pd.read_parquet(filepath_products)\n",
    "df.head(10)"
   ]
  },
  {
   "cell_type": "code",
   "execution_count": 5,
   "metadata": {},
   "outputs": [
    {
     "data": {
      "text/plain": [
       "122"
      ]
     },
     "execution_count": 5,
     "metadata": {},
     "output_type": "execute_result"
    }
   ],
   "source": [
    "len(df.product_url.unique())"
   ]
  }
 ],
 "metadata": {
  "kernelspec": {
   "display_name": "base",
   "language": "python",
   "name": "python3"
  },
  "language_info": {
   "codemirror_mode": {
    "name": "ipython",
    "version": 3
   },
   "file_extension": ".py",
   "mimetype": "text/x-python",
   "name": "python",
   "nbconvert_exporter": "python",
   "pygments_lexer": "ipython3",
   "version": "3.10.9"
  },
  "orig_nbformat": 4
 },
 "nbformat": 4,
 "nbformat_minor": 2
}
